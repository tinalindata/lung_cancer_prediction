{
 "cells": [
  {
   "cell_type": "code",
   "execution_count": 1,
   "metadata": {},
   "outputs": [],
   "source": [
    "# Name: Tina Lin\n",
    "# uniqname: tinalin\n",
    "# Project: Lung Caner Prediction"
   ]
  },
  {
   "cell_type": "code",
   "execution_count": 2,
   "metadata": {},
   "outputs": [
    {
     "name": "stderr",
     "output_type": "stream",
     "text": [
      "/anaconda3/lib/python3.7/site-packages/sklearn/ensemble/weight_boosting.py:29: DeprecationWarning: numpy.core.umath_tests is an internal NumPy module and should not be imported. It will be removed in a future NumPy release.\n",
      "  from numpy.core.umath_tests import inner1d\n"
     ]
    }
   ],
   "source": [
    "# import necessary packages\n",
    "import pandas as pd\n",
    "import numpy as np\n",
    "\n",
    "from sklearn.model_selection import train_test_split\n",
    "from sklearn.tree import DecisionTreeClassifier\n",
    "from sklearn.preprocessing import Imputer\n",
    "from sklearn.metrics import confusion_matrix\n",
    "from sklearn.metrics import accuracy_score, precision_score, recall_score, f1_score\n",
    "from sklearn.ensemble import GradientBoostingClassifier\n",
    "from sklearn.linear_model import LogisticRegression\n",
    "\n",
    "import xgboost as xgb\n",
    "\n",
    "import matplotlib.pyplot as plt\n",
    "import seaborn as sns"
   ]
  },
  {
   "cell_type": "code",
   "execution_count": 3,
   "metadata": {},
   "outputs": [
    {
     "data": {
      "text/html": [
       "<div>\n",
       "<style scoped>\n",
       "    .dataframe tbody tr th:only-of-type {\n",
       "        vertical-align: middle;\n",
       "    }\n",
       "\n",
       "    .dataframe tbody tr th {\n",
       "        vertical-align: top;\n",
       "    }\n",
       "\n",
       "    .dataframe thead th {\n",
       "        text-align: right;\n",
       "    }\n",
       "</style>\n",
       "<table border=\"1\" class=\"dataframe\">\n",
       "  <thead>\n",
       "    <tr style=\"text-align: right;\">\n",
       "      <th></th>\n",
       "      <th>pid</th>\n",
       "      <th>class</th>\n",
       "      <th>smokeage</th>\n",
       "      <th>smokeday</th>\n",
       "      <th>age_quit</th>\n",
       "      <th>cigsmok</th>\n",
       "      <th>gender</th>\n",
       "      <th>rndgroup</th>\n",
       "      <th>age</th>\n",
       "      <th>pkyr</th>\n",
       "      <th>...</th>\n",
       "      <th>progsite_lymph_n2_days</th>\n",
       "      <th>progsite_lymph_n3_days</th>\n",
       "      <th>progsite_unk_days</th>\n",
       "      <th>last_progfree_days</th>\n",
       "      <th>confirmed_candxdays1</th>\n",
       "      <th>confirmed_candxdays2</th>\n",
       "      <th>confirmed_candxdays3</th>\n",
       "      <th>confirmed_candxdays4</th>\n",
       "      <th>scr_group</th>\n",
       "      <th>ct_selected</th>\n",
       "    </tr>\n",
       "  </thead>\n",
       "  <tbody>\n",
       "    <tr>\n",
       "      <th>0</th>\n",
       "      <td>100010</td>\n",
       "      <td>0</td>\n",
       "      <td>12</td>\n",
       "      <td>40</td>\n",
       "      <td>54.0</td>\n",
       "      <td>0</td>\n",
       "      <td>1</td>\n",
       "      <td>1</td>\n",
       "      <td>68</td>\n",
       "      <td>84.0</td>\n",
       "      <td>...</td>\n",
       "      <td>NaN</td>\n",
       "      <td>NaN</td>\n",
       "      <td>NaN</td>\n",
       "      <td>NaN</td>\n",
       "      <td>NaN</td>\n",
       "      <td>NaN</td>\n",
       "      <td>NaN</td>\n",
       "      <td>NaN</td>\n",
       "      <td>1</td>\n",
       "      <td>1</td>\n",
       "    </tr>\n",
       "    <tr>\n",
       "      <th>1</th>\n",
       "      <td>100012</td>\n",
       "      <td>1</td>\n",
       "      <td>22</td>\n",
       "      <td>20</td>\n",
       "      <td>NaN</td>\n",
       "      <td>1</td>\n",
       "      <td>2</td>\n",
       "      <td>1</td>\n",
       "      <td>61</td>\n",
       "      <td>37.0</td>\n",
       "      <td>...</td>\n",
       "      <td>NaN</td>\n",
       "      <td>NaN</td>\n",
       "      <td>NaN</td>\n",
       "      <td>1498.0</td>\n",
       "      <td>454.0</td>\n",
       "      <td>1548.0</td>\n",
       "      <td>NaN</td>\n",
       "      <td>NaN</td>\n",
       "      <td>4</td>\n",
       "      <td>1</td>\n",
       "    </tr>\n",
       "    <tr>\n",
       "      <th>2</th>\n",
       "      <td>100037</td>\n",
       "      <td>0</td>\n",
       "      <td>15</td>\n",
       "      <td>40</td>\n",
       "      <td>NaN</td>\n",
       "      <td>1</td>\n",
       "      <td>1</td>\n",
       "      <td>1</td>\n",
       "      <td>56</td>\n",
       "      <td>82.0</td>\n",
       "      <td>...</td>\n",
       "      <td>NaN</td>\n",
       "      <td>NaN</td>\n",
       "      <td>NaN</td>\n",
       "      <td>NaN</td>\n",
       "      <td>NaN</td>\n",
       "      <td>NaN</td>\n",
       "      <td>NaN</td>\n",
       "      <td>NaN</td>\n",
       "      <td>1</td>\n",
       "      <td>1</td>\n",
       "    </tr>\n",
       "    <tr>\n",
       "      <th>3</th>\n",
       "      <td>100092</td>\n",
       "      <td>0</td>\n",
       "      <td>17</td>\n",
       "      <td>30</td>\n",
       "      <td>NaN</td>\n",
       "      <td>1</td>\n",
       "      <td>1</td>\n",
       "      <td>1</td>\n",
       "      <td>74</td>\n",
       "      <td>85.5</td>\n",
       "      <td>...</td>\n",
       "      <td>NaN</td>\n",
       "      <td>NaN</td>\n",
       "      <td>NaN</td>\n",
       "      <td>NaN</td>\n",
       "      <td>2289.0</td>\n",
       "      <td>NaN</td>\n",
       "      <td>NaN</td>\n",
       "      <td>NaN</td>\n",
       "      <td>2</td>\n",
       "      <td>1</td>\n",
       "    </tr>\n",
       "    <tr>\n",
       "      <th>4</th>\n",
       "      <td>100093</td>\n",
       "      <td>0</td>\n",
       "      <td>15</td>\n",
       "      <td>30</td>\n",
       "      <td>NaN</td>\n",
       "      <td>1</td>\n",
       "      <td>1</td>\n",
       "      <td>1</td>\n",
       "      <td>64</td>\n",
       "      <td>73.5</td>\n",
       "      <td>...</td>\n",
       "      <td>NaN</td>\n",
       "      <td>NaN</td>\n",
       "      <td>NaN</td>\n",
       "      <td>NaN</td>\n",
       "      <td>NaN</td>\n",
       "      <td>NaN</td>\n",
       "      <td>NaN</td>\n",
       "      <td>NaN</td>\n",
       "      <td>1</td>\n",
       "      <td>1</td>\n",
       "    </tr>\n",
       "  </tbody>\n",
       "</table>\n",
       "<p>5 rows × 323 columns</p>\n",
       "</div>"
      ],
      "text/plain": [
       "      pid  class  smokeage  smokeday  age_quit  cigsmok  gender  rndgroup  \\\n",
       "0  100010      0        12        40      54.0        0       1         1   \n",
       "1  100012      1        22        20       NaN        1       2         1   \n",
       "2  100037      0        15        40       NaN        1       1         1   \n",
       "3  100092      0        17        30       NaN        1       1         1   \n",
       "4  100093      0        15        30       NaN        1       1         1   \n",
       "\n",
       "   age  pkyr     ...       progsite_lymph_n2_days  progsite_lymph_n3_days  \\\n",
       "0   68  84.0     ...                          NaN                     NaN   \n",
       "1   61  37.0     ...                          NaN                     NaN   \n",
       "2   56  82.0     ...                          NaN                     NaN   \n",
       "3   74  85.5     ...                          NaN                     NaN   \n",
       "4   64  73.5     ...                          NaN                     NaN   \n",
       "\n",
       "   progsite_unk_days  last_progfree_days  confirmed_candxdays1  \\\n",
       "0                NaN                 NaN                   NaN   \n",
       "1                NaN              1498.0                 454.0   \n",
       "2                NaN                 NaN                   NaN   \n",
       "3                NaN                 NaN                2289.0   \n",
       "4                NaN                 NaN                   NaN   \n",
       "\n",
       "   confirmed_candxdays2  confirmed_candxdays3  confirmed_candxdays4  \\\n",
       "0                   NaN                   NaN                   NaN   \n",
       "1                1548.0                   NaN                   NaN   \n",
       "2                   NaN                   NaN                   NaN   \n",
       "3                   NaN                   NaN                   NaN   \n",
       "4                   NaN                   NaN                   NaN   \n",
       "\n",
       "   scr_group  ct_selected  \n",
       "0          1            1  \n",
       "1          4            1  \n",
       "2          1            1  \n",
       "3          2            1  \n",
       "4          1            1  \n",
       "\n",
       "[5 rows x 323 columns]"
      ]
     },
     "execution_count": 3,
     "metadata": {},
     "output_type": "execute_result"
    }
   ],
   "source": [
    "### load the data\n",
    "df = pd.read_csv(\"nlst_selected_1658_full.csv\", header = 0, index_col = None)\n",
    "df.head()"
   ]
  },
  {
   "cell_type": "code",
   "execution_count": 4,
   "metadata": {},
   "outputs": [
    {
     "data": {
      "text/plain": [
       "1658"
      ]
     },
     "execution_count": 4,
     "metadata": {},
     "output_type": "execute_result"
    }
   ],
   "source": [
    "### Clean and prepare data\n",
    "df.drop('pid', axis=1, inplace=True)\n",
    "\n",
    "# size of the dataframe\n",
    "len(df)"
   ]
  },
  {
   "cell_type": "code",
   "execution_count": null,
   "metadata": {},
   "outputs": [],
   "source": [
    "# Read the value of X and y \n",
    "y = df['class']\n",
    "X = df.drop(columns=['pid', 'class'])\n",
    "\n",
    "# Remove columns with only constant values \n",
    "for col in X.columns:\n",
    "    if X[col].unique().shape[0] == 1:\n",
    "        del X[col]\n",
    "        print('remove constant col', col)\n",
    "\n",
    "# Drop the columns where 50% of the column is NAN.\n",
    "df = df[df.columns[df.isnull().mean() < 0.5]]"
   ]
  },
  {
   "cell_type": "code",
   "execution_count": 187,
   "metadata": {},
   "outputs": [],
   "source": [
    "### Find features that can best predict the presence of lung cancer by calculating information value for each feature \n",
    "#Reference: https://www.kaggle.com/emotionevil/category-features-selection-information-value\n",
    "\n",
    "# find the number of events(value=1) and number of non_events(value=0) in the \"class\" column\n",
    "num_events = y.sum()\n",
    "num_non_events = y.shape[0] - y.sum()\n",
    "\n",
    "feature_list = []\n",
    "feature_iv_list = []\n",
    "\n",
    "for col in X.columns:  \n",
    "    feature_list.append(col)\n",
    "        \n",
    "    woe_df = pd.DataFrame()\n",
    "    woe_df[col] = X[col]\n",
    "    woe_df['class'] = y\n",
    "    events_df = woe_df.groupby(col)['class'].sum().reset_index().rename(columns={'class' : 'events'})\n",
    "    events_df['non_events'] = woe_df.groupby(col).count().reset_index()['class'] - events_df['events']\n",
    "\n",
    "    def cal_woe(x):\n",
    "        return np.log( ((x['non_events']+0.5)/num_non_events) / ((x['events']+0.5)/num_events)  )\n",
    "    events_df['WOE_'+col] = events_df.apply(cal_woe, axis=1)\n",
    "\n",
    "    def cal_iv(x):\n",
    "        return x['WOE_'+col]*(x['non_events'] / num_non_events - x['events'] / num_events)\n",
    "    events_df['IV_'+col] = events_df.apply(cal_iv, axis=1)\n",
    "    \n",
    "    feature_iv = events_df['IV_'+col].sum()\n",
    "    feature_iv_list.append(feature_iv)\n",
    "    events_df = events_df.drop(['events', 'non_events', 'IV_'+col], axis=1)\n",
    "    X = X.merge(events_df, how='left', on=col)"
   ]
  },
  {
   "cell_type": "code",
   "execution_count": 204,
   "metadata": {},
   "outputs": [
    {
     "name": "stdout",
     "output_type": "stream",
     "text": [
      "Best Features: \n",
      "                  feature        IV\n",
      "213  confirmed_icd_topog2  0.488298\n",
      "286         prog_days_1st  0.486781\n",
      "233    confirmed_seercat2  0.479850\n",
      "82                 weight  0.451664\n",
      "63              mra_stat1  0.435932\n",
      "47               medcomp0  0.424769\n",
      "49               medcomp2  0.416632\n",
      "225  confirmed_icd_grade2  0.399983\n",
      "189               smokeyr  0.398683\n",
      "221  confirmed_icd_behav2  0.397696\n",
      "237  confirmed_conforder2  0.397280\n",
      "217  confirmed_icd_morph2  0.394884\n"
     ]
    },
    {
     "data": {
      "text/plain": [
       "Text(0.5,0,'Features')"
      ]
     },
     "execution_count": 204,
     "metadata": {},
     "output_type": "execute_result"
    },
    {
     "data": {
      "image/png": "[encoded data removed]",
      "text/plain": [
       "<Figure size 1440x720 with 1 Axes>"
      ]
     },
     "metadata": {},
     "output_type": "display_data"
    }
   ],
   "source": [
    "## Generate the feature-information value dataframe\n",
    "# Reference: https://www.kaggle.com/emotionevil/category-features-selection-information-value\n",
    "iv_df = pd.DataFrame()\n",
    "iv_df['feature'] = feature_list\n",
    "iv_df['IV'] = feature_iv_list\n",
    "iv_df = iv_df.sort_values(by='IV', ascending=False)\n",
    "\n",
    "\n",
    "# IV< 0.02: not useful for prediction\n",
    "# 0.02 < IV < 0.1: weak predictive power\n",
    "# 0.1 < IV < 0.3: medium predictive power\n",
    "# 0.3 < IV < 0.5: strong predictive power\n",
    "# IV> 0.5: suspicious predictive power\n",
    "\n",
    "print(\"Best Features: \")\n",
    "iv_df = iv_df[(iv_df['IV'] >= 0.3) & (iv_df['IV'] <= 0.5)]\n",
    "print(iv_df)\n",
    "\n",
    "# Plot the 12 best features \n",
    "f, ax = plt.subplots(figsize=(20, 10))\n",
    "sns.set(style=\"darkgrid\")\n",
    "sns.barplot(x=iv_df.feature, y=iv_df.IV)\n",
    "\n",
    "ax.set_title('12 Best Features')\n",
    "ax.set_ylabel('Information Value')\n",
    "ax.set_xlabel('Features')\n"
   ]
  },
  {
   "cell_type": "code",
   "execution_count": 6,
   "metadata": {},
   "outputs": [],
   "source": [
    "### Using the best features found above to find the best model \n",
    "df = pd.read_csv(\"nlst_selected_1658_full.csv\", header = 0, index_col = None)\n",
    "target = df['class']\n",
    "\n",
    "features = df[['prog_days_1st', 'confirmed_seercat2', 'weight', 'mra_stat1', \n",
    "               'medcomp0', 'medcomp2', 'confirmed_icd_grade2', 'smokeyr', 'confirmed_icd_behav2',\n",
    "              'confirmed_conforder2', 'confirmed_icd_morph2']]\n",
    "\n",
    "# filling blank cells with the means \n",
    "fill_NaN = Imputer(missing_values=np.nan, strategy='mean', axis=1)\n",
    "imputed_features = pd.DataFrame(fill_NaN.fit_transform(features))\n",
    "imputed_features.columns = features.columns\n",
    "imputed_features.index = features.index"
   ]
  },
  {
   "cell_type": "code",
   "execution_count": 28,
   "metadata": {},
   "outputs": [],
   "source": [
    "# Method 1: decision tree method \n",
    "# split the data into train data and test dat \n",
    "X_train_dt, X_test_dt, y_train_dt, y_test_dt = train_test_split(imputed_features, target, random_state = 0)"
   ]
  },
  {
   "cell_type": "code",
   "execution_count": 67,
   "metadata": {},
   "outputs": [
    {
     "name": "stdout",
     "output_type": "stream",
     "text": [
      "[[244   6]\n",
      " [ 78  87]]\n"
     ]
    }
   ],
   "source": [
    "dt = DecisionTreeClassifier(max_depth = 4, min_samples_split = 0.3,  min_samples_leaf = 8, max_features = 10,\n",
    "                            random_state = 0).fit(X_train_dt, y_train_dt)\n",
    "tree_predicted = dt.predict(X_test_dt)\n",
    "confusion = confusion_matrix(y_test_dt, tree_predicted)\n",
    "print(confusion)"
   ]
  },
  {
   "cell_type": "code",
   "execution_count": 68,
   "metadata": {},
   "outputs": [
    {
     "name": "stdout",
     "output_type": "stream",
     "text": [
      "Accuracy: 0.80\n",
      "Precision: 0.94\n",
      "Recall: 0.53\n",
      "F1: 0.67\n"
     ]
    }
   ],
   "source": [
    "print('Accuracy: {:.2f}'.format(accuracy_score(y_test_dt, tree_predicted)))\n",
    "print('Precision: {:.2f}'.format(precision_score(y_test_dt, tree_predicted)))\n",
    "print('Recall: {:.2f}'.format(recall_score(y_test_dt, tree_predicted)))\n",
    "print('F1: {:.2f}'.format(f1_score(y_test_dt, tree_predicted)))"
   ]
  },
  {
   "cell_type": "code",
   "execution_count": 85,
   "metadata": {},
   "outputs": [],
   "source": [
    "# Method 2: gradient decision tree method \n",
    "# split the data into train data and test dat \n",
    "X_train_gdt, X_test_gdt, y_train_gdt, y_test_gdt = train_test_split(imputed_features, target, random_state = 0)"
   ]
  },
  {
   "cell_type": "code",
   "execution_count": 97,
   "metadata": {},
   "outputs": [
    {
     "name": "stdout",
     "output_type": "stream",
     "text": [
      "[[233  17]\n",
      " [ 60 105]]\n"
     ]
    }
   ],
   "source": [
    "# gdt = GradientBoostingClassifier(learning_rate = 0.01, max_depth = 3, random_state = 0).fit(X_train_gdt, y_train_gdt)\n",
    "gdt = GradientBoostingClassifier(learning_rate=0.05, n_estimators=120, max_depth=4, \n",
    "                                 max_features='sqrt', subsample=0.8, random_state=10).fit(X_train_gdt, y_train_gdt)\n",
    "\n",
    "tree_predicted = gdt.predict(X_test_gdt)\n",
    "confusion = confusion_matrix(y_test_gdt, tree_predicted)\n",
    "print(confusion)\n"
   ]
  },
  {
   "cell_type": "code",
   "execution_count": 98,
   "metadata": {},
   "outputs": [
    {
     "name": "stdout",
     "output_type": "stream",
     "text": [
      "Accuracy: 0.81\n",
      "Precision: 0.86\n",
      "Recall: 0.64\n",
      "F1: 0.73\n"
     ]
    }
   ],
   "source": [
    "print('Accuracy: {:.2f}'.format(accuracy_score(y_test_gdt, tree_predicted)))\n",
    "print('Precision: {:.2f}'.format(precision_score(y_test_gdt, tree_predicted)))\n",
    "print('Recall: {:.2f}'.format(recall_score(y_test_gdt, tree_predicted)))\n",
    "print('F1: {:.2f}'.format(f1_score(y_test_gdt, tree_predicted)))"
   ]
  },
  {
   "cell_type": "code",
   "execution_count": 132,
   "metadata": {},
   "outputs": [],
   "source": [
    "# Method 3: logistic regression method \n",
    "# split the data into train data and test dat \n",
    "X_train_lr, X_test_lr, y_train_lr, y_test_lr = train_test_split(imputed_features, target, random_state = 0)"
   ]
  },
  {
   "cell_type": "code",
   "execution_count": 140,
   "metadata": {},
   "outputs": [
    {
     "name": "stdout",
     "output_type": "stream",
     "text": [
      "[[241   9]\n",
      " [ 78  87]]\n"
     ]
    }
   ],
   "source": [
    "lr = LogisticRegression(C=100).fit(X_train_lr, y_train_lr)\n",
    "tree_predicted = lr.predict(X_test_lr)\n",
    "confusion = confusion_matrix(y_test_lr, tree_predicted)\n",
    "print(confusion)"
   ]
  },
  {
   "cell_type": "code",
   "execution_count": 141,
   "metadata": {},
   "outputs": [
    {
     "name": "stdout",
     "output_type": "stream",
     "text": [
      "Accuracy: 0.79\n",
      "Precision: 0.91\n",
      "Recall: 0.53\n",
      "F1: 0.67\n"
     ]
    }
   ],
   "source": [
    "print('Accuracy: {:.2f}'.format(accuracy_score(y_test_lr, tree_predicted)))\n",
    "print('Precision: {:.2f}'.format(precision_score(y_test_lr, tree_predicted)))\n",
    "print('Recall: {:.2f}'.format(recall_score(y_test_lr, tree_predicted)))\n",
    "print('F1: {:.2f}'.format(f1_score(y_test_lr, tree_predicted)))"
   ]
  },
  {
   "cell_type": "code",
   "execution_count": 142,
   "metadata": {},
   "outputs": [],
   "source": [
    "### Method4: xgboost\n",
    "# split the data into train data and test dat \n",
    "X_train_xgb, X_test_xgb,  y_train_xgb, y_test_xgb = train_test_split(imputed_features, target, random_state = 0)"
   ]
  },
  {
   "cell_type": "code",
   "execution_count": 179,
   "metadata": {},
   "outputs": [],
   "source": [
    "params = {'objective': 'multi:softmax',\n",
    "        'n_estimators': 5000,\n",
    "        'learning_rate': 0.001,\n",
    "        'max_depth': 5,\n",
    "        'gamma': 0,\n",
    "        'silent': 1,\n",
    "        'subsample': 0.8,\n",
    "        'colsample_bytree': 0.8,\n",
    "        'colsample_bylevel': 1.0,\n",
    "        'seed': 589309673,\n",
    "        'reg_lambda': 1,\n",
    "        'reg_alpha': 1,\n",
    "        'nthread': 4,\n",
    "        'scale_pos_weight': 1,\n",
    "        'num_class':3\n",
    "}"
   ]
  },
  {
   "cell_type": "code",
   "execution_count": 180,
   "metadata": {},
   "outputs": [
    {
     "name": "stdout",
     "output_type": "stream",
     "text": [
      "[[230  20]\n",
      " [ 60 105]]\n"
     ]
    },
    {
     "name": "stderr",
     "output_type": "stream",
     "text": [
      "/anaconda3/lib/python3.7/site-packages/sklearn/preprocessing/label.py:151: DeprecationWarning: The truth value of an empty array is ambiguous. Returning False, but in future this will result in an error. Use `array.size > 0` to check that an array is not empty.\n",
      "  if diff:\n"
     ]
    }
   ],
   "source": [
    "model = xgb.XGBClassifier(**params)\n",
    "model.fit(X_train_lr, y_train_lr, eval_metric='mlogloss')\n",
    "tree_predicted = model.predict(X_test_lr)\n",
    "confusion = confusion_matrix(y_test_lr, tree_predicted)\n",
    "print(confusion)"
   ]
  },
  {
   "cell_type": "code",
   "execution_count": 181,
   "metadata": {},
   "outputs": [
    {
     "name": "stdout",
     "output_type": "stream",
     "text": [
      "Accuracy: 0.81\n",
      "Precision: 0.84\n",
      "Recall: 0.64\n",
      "F1: 0.72\n"
     ]
    }
   ],
   "source": [
    "print('Accuracy: {:.2f}'.format(accuracy_score(y_test_xgb, tree_predicted)))\n",
    "print('Precision: {:.2f}'.format(precision_score(y_test_xgb, tree_predicted)))\n",
    "print('Recall: {:.2f}'.format(recall_score(y_test_xgb, tree_predicted)))\n",
    "print('F1: {:.2f}'.format(f1_score(y_test_xgb, tree_predicted)))"
   ]
  },
  {
   "cell_type": "code",
   "execution_count": null,
   "metadata": {},
   "outputs": [],
   "source": []
  },
  {
   "cell_type": "code",
   "execution_count": null,
   "metadata": {},
   "outputs": [],
   "source": []
  }
 ],
 "metadata": {
  "kernelspec": {
   "display_name": "Python 3",
   "language": "python",
   "name": "python3"
  },
  "language_info": {
   "codemirror_mode": {
    "name": "ipython",
    "version": 3
   },
   "file_extension": ".py",
   "mimetype": "text/x-python",
   "name": "python",
   "nbconvert_exporter": "python",
   "pygments_lexer": "ipython3",
   "version": "3.7.0"
  }
 },
 "nbformat": 4,
 "nbformat_minor": 2
}
